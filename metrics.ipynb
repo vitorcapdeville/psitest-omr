{
 "cells": [
  {
   "cell_type": "code",
   "execution_count": 12,
   "metadata": {},
   "outputs": [],
   "source": [
    "import keras\n",
    "import numpy as np\n",
    "import tensorflow as tf\n",
    "from sklearn.metrics import accuracy_score, confusion_matrix, precision_recall_fscore_support, roc_auc_score\n",
    "\n",
    "class_names = [\"confirmed\", \"crossedout\", \"empty\"]"
   ]
  },
  {
   "cell_type": "code",
   "execution_count": 13,
   "metadata": {},
   "outputs": [],
   "source": [
    "model = keras.saving.load_model(\"models/omr_model.keras\")\n",
    "test_ds =  tf.data.Dataset.load(\"datasets/ds_test\")"
   ]
  },
  {
   "cell_type": "code",
   "execution_count": 14,
   "metadata": {},
   "outputs": [
    {
     "name": "stderr",
     "output_type": "stream",
     "text": [
      "2024-09-11 22:00:06.565615: I tensorflow/core/framework/local_rendezvous.cc:404] Local rendezvous is aborting with status: OUT_OF_RANGE: End of sequence\n"
     ]
    }
   ],
   "source": [
    "true_labels = []\n",
    "for _, label in test_ds:\n",
    "    true_labels.append(label.numpy())\n",
    "\n",
    "true_labels = np.concatenate(true_labels)"
   ]
  },
  {
   "cell_type": "code",
   "execution_count": 15,
   "metadata": {},
   "outputs": [
    {
     "name": "stdout",
     "output_type": "stream",
     "text": [
      "\u001b[1m420/420\u001b[0m \u001b[32m━━━━━━━━━━━━━━━━━━━━\u001b[0m\u001b[37m\u001b[0m \u001b[1m15s\u001b[0m 30ms/step\n"
     ]
    }
   ],
   "source": [
    "results = model.predict(test_ds,batch_size=256)"
   ]
  },
  {
   "cell_type": "code",
   "execution_count": 16,
   "metadata": {},
   "outputs": [],
   "source": [
    "predicted_labels = np.argmax(results, axis=1)"
   ]
  },
  {
   "cell_type": "code",
   "execution_count": 17,
   "metadata": {},
   "outputs": [],
   "source": [
    "_, predicted_ammount = np.unique(predicted_labels, return_counts=True)"
   ]
  },
  {
   "cell_type": "code",
   "execution_count": 18,
   "metadata": {},
   "outputs": [],
   "source": [
    "precision, recall, fscore, support = precision_recall_fscore_support(true_labels, predicted_labels, average=None)"
   ]
  },
  {
   "cell_type": "code",
   "execution_count": 19,
   "metadata": {},
   "outputs": [],
   "source": [
    "auc = roc_auc_score(true_labels, results, average=None, multi_class='ovr')"
   ]
  },
  {
   "cell_type": "code",
   "execution_count": 20,
   "metadata": {},
   "outputs": [
    {
     "name": "stdout",
     "output_type": "stream",
     "text": [
      "Test dataset accuracy: 99.54%\n"
     ]
    }
   ],
   "source": [
    "acc = accuracy_score(true_labels, predicted_labels) * 100\n",
    "\n",
    "print(f\"Test dataset accuracy: {acc:.2f}%\")"
   ]
  },
  {
   "cell_type": "code",
   "execution_count": 21,
   "metadata": {},
   "outputs": [
    {
     "data": {
      "text/html": [
       "<div>\n",
       "<style scoped>\n",
       "    .dataframe tbody tr th:only-of-type {\n",
       "        vertical-align: middle;\n",
       "    }\n",
       "\n",
       "    .dataframe tbody tr th {\n",
       "        vertical-align: top;\n",
       "    }\n",
       "\n",
       "    .dataframe thead th {\n",
       "        text-align: right;\n",
       "    }\n",
       "</style>\n",
       "<table border=\"1\" class=\"dataframe\">\n",
       "  <thead>\n",
       "    <tr style=\"text-align: right;\">\n",
       "      <th></th>\n",
       "      <th>class</th>\n",
       "      <th>support</th>\n",
       "      <th>predicted_ammount</th>\n",
       "      <th>precision</th>\n",
       "      <th>recall</th>\n",
       "      <th>fscore</th>\n",
       "      <th>auc</th>\n",
       "    </tr>\n",
       "  </thead>\n",
       "  <tbody>\n",
       "    <tr>\n",
       "      <th>0</th>\n",
       "      <td>confirmed</td>\n",
       "      <td>4463</td>\n",
       "      <td>4460</td>\n",
       "      <td>0.995067</td>\n",
       "      <td>0.994398</td>\n",
       "      <td>0.994733</td>\n",
       "      <td>0.999764</td>\n",
       "    </tr>\n",
       "    <tr>\n",
       "      <th>1</th>\n",
       "      <td>crossedout</td>\n",
       "      <td>80</td>\n",
       "      <td>90</td>\n",
       "      <td>0.666667</td>\n",
       "      <td>0.750000</td>\n",
       "      <td>0.705882</td>\n",
       "      <td>0.986069</td>\n",
       "    </tr>\n",
       "    <tr>\n",
       "      <th>2</th>\n",
       "      <td>empty</td>\n",
       "      <td>8876</td>\n",
       "      <td>8869</td>\n",
       "      <td>0.998872</td>\n",
       "      <td>0.998085</td>\n",
       "      <td>0.998478</td>\n",
       "      <td>0.999975</td>\n",
       "    </tr>\n",
       "  </tbody>\n",
       "</table>\n",
       "</div>"
      ],
      "text/plain": [
       "        class  support  predicted_ammount  precision    recall    fscore  \\\n",
       "0   confirmed     4463               4460   0.995067  0.994398  0.994733   \n",
       "1  crossedout       80                 90   0.666667  0.750000  0.705882   \n",
       "2       empty     8876               8869   0.998872  0.998085  0.998478   \n",
       "\n",
       "        auc  \n",
       "0  0.999764  \n",
       "1  0.986069  \n",
       "2  0.999975  "
      ]
     },
     "execution_count": 21,
     "metadata": {},
     "output_type": "execute_result"
    }
   ],
   "source": [
    "import pandas as pd\n",
    "\n",
    "pd.DataFrame(\n",
    "    {\"class\": class_names, \"support\": support, \"predicted_ammount\": predicted_ammount, \"precision\": precision, \"recall\": recall, \"fscore\": fscore, \"auc\": auc}\n",
    ")"
   ]
  },
  {
   "cell_type": "code",
   "execution_count": 22,
   "metadata": {},
   "outputs": [
    {
     "data": {
      "text/html": [
       "<div>\n",
       "<style scoped>\n",
       "    .dataframe tbody tr th:only-of-type {\n",
       "        vertical-align: middle;\n",
       "    }\n",
       "\n",
       "    .dataframe tbody tr th {\n",
       "        vertical-align: top;\n",
       "    }\n",
       "\n",
       "    .dataframe thead th {\n",
       "        text-align: right;\n",
       "    }\n",
       "</style>\n",
       "<table border=\"1\" class=\"dataframe\">\n",
       "  <thead>\n",
       "    <tr style=\"text-align: right;\">\n",
       "      <th>Predicted</th>\n",
       "      <th>confirmed</th>\n",
       "      <th>crossedout</th>\n",
       "      <th>empty</th>\n",
       "    </tr>\n",
       "    <tr>\n",
       "      <th>True</th>\n",
       "      <th></th>\n",
       "      <th></th>\n",
       "      <th></th>\n",
       "    </tr>\n",
       "  </thead>\n",
       "  <tbody>\n",
       "    <tr>\n",
       "      <th>confirmed</th>\n",
       "      <td>4438</td>\n",
       "      <td>19</td>\n",
       "      <td>6</td>\n",
       "    </tr>\n",
       "    <tr>\n",
       "      <th>crossedout</th>\n",
       "      <td>16</td>\n",
       "      <td>60</td>\n",
       "      <td>4</td>\n",
       "    </tr>\n",
       "    <tr>\n",
       "      <th>empty</th>\n",
       "      <td>6</td>\n",
       "      <td>11</td>\n",
       "      <td>8859</td>\n",
       "    </tr>\n",
       "  </tbody>\n",
       "</table>\n",
       "</div>"
      ],
      "text/plain": [
       "Predicted   confirmed  crossedout  empty\n",
       "True                                    \n",
       "confirmed        4438          19      6\n",
       "crossedout         16          60      4\n",
       "empty               6          11   8859"
      ]
     },
     "execution_count": 22,
     "metadata": {},
     "output_type": "execute_result"
    }
   ],
   "source": [
    "cm = confusion_matrix(true_labels, predicted_labels)\n",
    "\n",
    "df = pd.DataFrame(cm, index=class_names, columns=class_names)\n",
    "df.index.name = \"True\"\n",
    "df.columns.name = \"Predicted\"\n",
    "df"
   ]
  }
 ],
 "metadata": {
  "kernelspec": {
   "display_name": ".venv",
   "language": "python",
   "name": "python3"
  },
  "language_info": {
   "codemirror_mode": {
    "name": "ipython",
    "version": 3
   },
   "file_extension": ".py",
   "mimetype": "text/x-python",
   "name": "python",
   "nbconvert_exporter": "python",
   "pygments_lexer": "ipython3",
   "version": "3.10.12"
  }
 },
 "nbformat": 4,
 "nbformat_minor": 2
}
